{
  "cells": [
    {
      "cell_type": "markdown",
      "metadata": {
        "id": "view-in-github",
        "colab_type": "text"
      },
      "source": [
        "<a href=\"https://colab.research.google.com/github/rsarpal/AICourse/blob/master/Welcome_To_Colab.ipynb\" target=\"_parent\"><img src=\"https://colab.research.google.com/assets/colab-badge.svg\" alt=\"Open In Colab\"/></a>"
      ]
    },
    {
      "cell_type": "markdown",
      "source": [
        "# Pandas\n",
        "```python\n",
        "\n",
        "import pandas as pd\n",
        "data = pd.read_csv(\"carsales.csv\")\n",
        "\n",
        "#get datatypes of dataframe\n",
        "data.dtypes\n",
        "\n",
        "#get columns of the dataframe\n",
        "data.columns\n",
        "\n",
        "#get index details of the dataframe\n",
        "# RangeIndex(start=0, stop=10, step=1)\n",
        "data.index\n",
        "\n",
        "#describe method calculates count, mean, std, min, percentiles and max\n",
        "data.describe()\n",
        "\n",
        "\n",
        "\n",
        "```\n"
      ],
      "metadata": {
        "id": "komGxvLYP1l2"
      }
    }
  ],
  "metadata": {
    "colab": {
      "name": "Welcome To Colab",
      "toc_visible": true,
      "provenance": [],
      "include_colab_link": true
    },
    "kernelspec": {
      "display_name": "Python 3",
      "name": "python3"
    }
  },
  "nbformat": 4,
  "nbformat_minor": 0
}